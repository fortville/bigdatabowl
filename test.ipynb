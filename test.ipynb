{
 "cells": [
  {
   "cell_type": "code",
   "execution_count": 5,
   "metadata": {},
   "outputs": [
    {
     "name": "stdout",
     "output_type": "stream",
     "text": [
      "Collecting mljar-scikit-plot\n",
      "  Downloading mljar-scikit-plot-0.3.12.tar.gz (25 kB)\n",
      "  Preparing metadata (setup.py): started\n",
      "  Preparing metadata (setup.py): finished with status 'done'\n",
      "Requirement already satisfied: matplotlib>=1.4.0 in c:\\users\\logan\\anaconda3\\lib\\site-packages (from mljar-scikit-plot) (3.8.4)\n",
      "Requirement already satisfied: scikit-learn>=1.1.0 in c:\\users\\logan\\anaconda3\\lib\\site-packages (from mljar-scikit-plot) (1.4.2)\n",
      "Requirement already satisfied: joblib>=0.10 in c:\\users\\logan\\anaconda3\\lib\\site-packages (from mljar-scikit-plot) (1.4.2)\n",
      "Requirement already satisfied: contourpy>=1.0.1 in c:\\users\\logan\\anaconda3\\lib\\site-packages (from matplotlib>=1.4.0->mljar-scikit-plot) (1.2.0)\n",
      "Requirement already satisfied: cycler>=0.10 in c:\\users\\logan\\anaconda3\\lib\\site-packages (from matplotlib>=1.4.0->mljar-scikit-plot) (0.11.0)\n",
      "Requirement already satisfied: fonttools>=4.22.0 in c:\\users\\logan\\anaconda3\\lib\\site-packages (from matplotlib>=1.4.0->mljar-scikit-plot) (4.51.0)\n",
      "Requirement already satisfied: kiwisolver>=1.3.1 in c:\\users\\logan\\anaconda3\\lib\\site-packages (from matplotlib>=1.4.0->mljar-scikit-plot) (1.4.4)\n",
      "Requirement already satisfied: numpy>=1.21 in c:\\users\\logan\\anaconda3\\lib\\site-packages (from matplotlib>=1.4.0->mljar-scikit-plot) (1.26.4)\n",
      "Requirement already satisfied: packaging>=20.0 in c:\\users\\logan\\anaconda3\\lib\\site-packages (from matplotlib>=1.4.0->mljar-scikit-plot) (23.2)\n",
      "Requirement already satisfied: pillow>=8 in c:\\users\\logan\\anaconda3\\lib\\site-packages (from matplotlib>=1.4.0->mljar-scikit-plot) (10.3.0)\n",
      "Requirement already satisfied: pyparsing>=2.3.1 in c:\\users\\logan\\anaconda3\\lib\\site-packages (from matplotlib>=1.4.0->mljar-scikit-plot) (3.0.9)\n",
      "Requirement already satisfied: python-dateutil>=2.7 in c:\\users\\logan\\anaconda3\\lib\\site-packages (from matplotlib>=1.4.0->mljar-scikit-plot) (2.9.0.post0)\n",
      "Requirement already satisfied: scipy>=1.6.0 in c:\\users\\logan\\anaconda3\\lib\\site-packages (from scikit-learn>=1.1.0->mljar-scikit-plot) (1.13.1)\n",
      "Requirement already satisfied: threadpoolctl>=2.0.0 in c:\\users\\logan\\anaconda3\\lib\\site-packages (from scikit-learn>=1.1.0->mljar-scikit-plot) (2.2.0)\n",
      "Requirement already satisfied: six>=1.5 in c:\\users\\logan\\anaconda3\\lib\\site-packages (from python-dateutil>=2.7->matplotlib>=1.4.0->mljar-scikit-plot) (1.16.0)\n",
      "Building wheels for collected packages: mljar-scikit-plot\n",
      "  Building wheel for mljar-scikit-plot (setup.py): started\n",
      "  Building wheel for mljar-scikit-plot (setup.py): finished with status 'done'\n",
      "  Created wheel for mljar-scikit-plot: filename=mljar_scikit_plot-0.3.12-py3-none-any.whl size=32029 sha256=90d5657679b4e864ac8369ce9838f328a97a53fea04b7fb94665786a148424fa\n",
      "  Stored in directory: c:\\users\\logan\\appdata\\local\\pip\\cache\\wheels\\24\\e5\\1e\\3b952f43ebd4bd0a6983c835daa4e226f2eeee4080e5b1ceb9\n",
      "Successfully built mljar-scikit-plot\n",
      "Installing collected packages: mljar-scikit-plot\n",
      "Successfully installed mljar-scikit-plot-0.3.12\n"
     ]
    }
   ],
   "source": [
    "!pip install mljar-scikit-plot\n",
    "import scikitplot as skplt"
   ]
  },
  {
   "cell_type": "code",
   "execution_count": 9,
   "metadata": {},
   "outputs": [
    {
     "data": {
      "text/plain": [
       "0"
      ]
     },
     "execution_count": 9,
     "metadata": {},
     "output_type": "execute_result"
    }
   ],
   "source": [
    "test = 0\n",
    "test"
   ]
  },
  {
   "cell_type": "markdown",
   "metadata": {},
   "source": [
    "# **Test**"
   ]
  }
 ],
 "metadata": {
  "kernelspec": {
   "display_name": "base",
   "language": "python",
   "name": "python3"
  },
  "language_info": {
   "codemirror_mode": {
    "name": "ipython",
    "version": 3
   },
   "file_extension": ".py",
   "mimetype": "text/x-python",
   "name": "python",
   "nbconvert_exporter": "python",
   "pygments_lexer": "ipython3",
   "version": "3.12.4"
  }
 },
 "nbformat": 4,
 "nbformat_minor": 2
}
